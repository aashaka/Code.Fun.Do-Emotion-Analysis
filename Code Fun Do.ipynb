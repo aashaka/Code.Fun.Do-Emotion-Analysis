{
 "cells": [
  {
   "cell_type": "code",
   "execution_count": 28,
   "metadata": {
    "collapsed": false
   },
   "outputs": [],
   "source": [
    "import tensorflow as tf \n",
    "import pandas as pd\n",
    "import numpy as np\n",
    "import keras as k\n",
    "import nltk\n",
    "import seaborn as sns\n",
    "from collections import Counter\n",
    "%matplotlib inline\n",
    "from keras.models import Sequential, Model\n",
    "from keras.layers import Dense, Dropout, Input, Lambda,GRU,Embedding,LSTM\n",
    "from keras.optimizers import RMSprop\n",
    "from keras import backend as K\n",
    "import keras\n",
    "import numpy as np\n",
    "import pandas as pd\n",
    "import sklearn\n",
    "import seaborn as sns\n",
    "from keras.preprocessing.sequence import pad_sequences"
   ]
  },
  {
   "cell_type": "code",
   "execution_count": 29,
   "metadata": {
    "collapsed": false
   },
   "outputs": [],
   "source": [
    "data=pd.read_csv('/home/nancy/Downloads/test_modi.csv',encoding='ISO-8859-1')"
   ]
  },
  {
   "cell_type": "code",
   "execution_count": 30,
   "metadata": {
    "collapsed": false
   },
   "outputs": [],
   "source": [
    "data['sequence_length']=0"
   ]
  },
  {
   "cell_type": "code",
   "execution_count": 31,
   "metadata": {
    "collapsed": false
   },
   "outputs": [],
   "source": [
    "vocab=pd.read_csv('/home/nancy/Downloads/glove.6B/vocab.csv')"
   ]
  },
  {
   "cell_type": "code",
   "execution_count": 32,
   "metadata": {
    "collapsed": true
   },
   "outputs": [],
   "source": [
    "vocab=vocab.drop(vocab.columns[0],axis=1)"
   ]
  },
  {
   "cell_type": "code",
   "execution_count": 33,
   "metadata": {
    "collapsed": true
   },
   "outputs": [],
   "source": [
    "vocab=vocab.drop(vocab.columns[1],axis=1)"
   ]
  },
  {
   "cell_type": "code",
   "execution_count": 34,
   "metadata": {
    "collapsed": true
   },
   "outputs": [],
   "source": [
    "vocab.index=vocab.index+1"
   ]
  },
  {
   "cell_type": "code",
   "execution_count": 35,
   "metadata": {
    "collapsed": true
   },
   "outputs": [],
   "source": [
    "word_id={}\n",
    "for i in range(len(vocab)):\n",
    "    word_id[vocab.loc[i+1,'word']]=i+1\n",
    "    "
   ]
  },
  {
   "cell_type": "code",
   "execution_count": 39,
   "metadata": {
    "collapsed": true
   },
   "outputs": [],
   "source": [
    "from nltk.stem import WordNetLemmatizer\n",
    "from nltk.stem import PorterStemmer\n",
    "lemmatizer = WordNetLemmatizer()\n",
    "#stemming=PorterStemmer()\n",
    "\n",
    "            \n",
    "def doc_to_id(h):\n",
    "    l=[]\n",
    "    m=[]\n",
    "    a=nltk.tokenize.word_tokenize(h)\n",
    "    for w in a:\n",
    "        try:\n",
    "            n1=lemmatizer.lemmatize(w.lower())\n",
    "            #n=stemming.stem(n1)\n",
    "            l.append(word_id[n1])\n",
    "        except:\n",
    "                m.append(w.lower())\n",
    "    return l,m"
   ]
  },
  {
   "cell_type": "code",
   "execution_count": 40,
   "metadata": {
    "collapsed": false
   },
   "outputs": [],
   "source": [
    "input1=[]\n",
    "for i in range(len(data)):\n",
    "    a=doc_to_id(data['content'][i])[0]\n",
    "    input1.append(a)"
   ]
  },
  {
   "cell_type": "code",
   "execution_count": 41,
   "metadata": {
    "collapsed": false
   },
   "outputs": [],
   "source": [
    "sequence_length=[]\n",
    "for i in range(len(data)):\n",
    "    sequence_length.append(len(input1[i]))"
   ]
  },
  {
   "cell_type": "code",
   "execution_count": 42,
   "metadata": {
    "collapsed": false
   },
   "outputs": [],
   "source": [
    "remove_sentence_index=[]\n",
    "for i in range(len(sequence_length)):\n",
    "    if(sequence_length[i]>40):\n",
    "        remove_sentence_index.append(i)\n"
   ]
  },
  {
   "cell_type": "code",
   "execution_count": 43,
   "metadata": {
    "collapsed": false
   },
   "outputs": [],
   "source": [
    "remove2=[]\n",
    "for i in range(len(sequence_length)):\n",
    "    if(sequence_length[i]==0):\n",
    "        remove2.append(i)"
   ]
  },
  {
   "cell_type": "code",
   "execution_count": 44,
   "metadata": {
    "collapsed": false
   },
   "outputs": [],
   "source": [
    "data.drop(data.index[remove_sentence_index],inplace=True)"
   ]
  },
  {
   "cell_type": "code",
   "execution_count": 45,
   "metadata": {
    "collapsed": true
   },
   "outputs": [],
   "source": [
    "data.drop(data.index[remove2],inplace=True)"
   ]
  },
  {
   "cell_type": "code",
   "execution_count": 46,
   "metadata": {
    "collapsed": true
   },
   "outputs": [],
   "source": [
    "data=data.reset_index()"
   ]
  },
  {
   "cell_type": "code",
   "execution_count": 47,
   "metadata": {
    "collapsed": true
   },
   "outputs": [],
   "source": [
    "input2=[]\n",
    "for i in range(len(data)):\n",
    "    a=doc_to_id(data['content'][i])[0]\n",
    "    input2.append(a)"
   ]
  },
  {
   "cell_type": "code",
   "execution_count": 48,
   "metadata": {
    "collapsed": true
   },
   "outputs": [],
   "source": [
    "sequence_length=[]\n",
    "for i in range(len(data)):\n",
    "    sequence_length.append(len(input2[i]))"
   ]
  },
  {
   "cell_type": "code",
   "execution_count": 49,
   "metadata": {
    "collapsed": false
   },
   "outputs": [],
   "source": [
    "input_main=pad_sequences(input2,maxlen=40,padding='post')"
   ]
  },
  {
   "cell_type": "code",
   "execution_count": 75,
   "metadata": {
    "collapsed": false
   },
   "outputs": [],
   "source": [
    "output=pd.get_dummies(data['sentiment'])"
   ]
  },
  {
   "cell_type": "code",
   "execution_count": 51,
   "metadata": {
    "collapsed": false
   },
   "outputs": [],
   "source": [
    "output_main=output.as_matrix()"
   ]
  },
  {
   "cell_type": "code",
   "execution_count": 26,
   "metadata": {
    "collapsed": true
   },
   "outputs": [],
   "source": [
    "np.save('/home/nancy/Downloads/input.npy',input_main)\n",
    "np.save('/home/nancy/Downloads/output.npy',output_main)\n"
   ]
  },
  {
   "cell_type": "code",
   "execution_count": 52,
   "metadata": {
    "collapsed": true
   },
   "outputs": [],
   "source": [
    "word_embedding=pd.read_csv('/home/nancy/Downloads/glove.6B/vocab2.csv')\n"
   ]
  },
  {
   "cell_type": "code",
   "execution_count": 53,
   "metadata": {
    "collapsed": true
   },
   "outputs": [],
   "source": [
    "word_embedding=word_embedding.drop(word_embedding.columns[0:1],axis=1)"
   ]
  },
  {
   "cell_type": "code",
   "execution_count": 54,
   "metadata": {
    "collapsed": true
   },
   "outputs": [],
   "source": [
    "word_embedding=word_embedding.as_matrix()"
   ]
  },
  {
   "cell_type": "code",
   "execution_count": 55,
   "metadata": {
    "collapsed": false
   },
   "outputs": [],
   "source": [
    "X_train, X_test, y_train, y_test = sklearn.model_selection.train_test_split(input_main,output_main,test_size=0.10, random_state=42)"
   ]
  },
  {
   "cell_type": "code",
   "execution_count": 56,
   "metadata": {
    "collapsed": false
   },
   "outputs": [],
   "source": [
    "model=Sequential()\n",
    "model.add(Embedding(word_embedding.shape[0],word_embedding.shape[1],input_length=40,mask_zero=True,trainable=False,weights=[word_embedding]))\n",
    "model.add(LSTM(output_dim=128,go_backwards=True,return_sequences=False,init='he_normal'))\n",
    "model.add(Dropout(0.5))\n",
    "model.add(Dense(len(y_train[0]),activation='softmax'))"
   ]
  },
  {
   "cell_type": "code",
   "execution_count": 57,
   "metadata": {
    "collapsed": false
   },
   "outputs": [],
   "source": [
    "model.compile(optimizer='rmsprop',loss='categorical_crossentropy',metrics=['categorical_accuracy'])"
   ]
  },
  {
   "cell_type": "code",
   "execution_count": 37,
   "metadata": {
    "collapsed": false
   },
   "outputs": [],
   "source": [
    "class LossHistory(keras.callbacks.Callback):\n",
    "    def on_train_begin(self, logs={}):\n",
    "        self.losses = []\n",
    "\n",
    "    def on_batch_end(self, batch, logs={}):\n",
    "        self.losses.append(logs.get('loss'))\n",
    "class accHistory(keras.callbacks.Callback):\n",
    "    def on_train_begin(self, logs={}):\n",
    "        self.categorical_accuracy = []\n",
    "\n",
    "    def on_batch_end(self, batch, logs={}):\n",
    "        self.categorical_accuracy.append(logs.get('categorical_accuracy'))        "
   ]
  },
  {
   "cell_type": "code",
   "execution_count": 59,
   "metadata": {
    "collapsed": false
   },
   "outputs": [],
   "source": [
    "history1=LossHistory()\n",
    "history2=accHistory()\n",
    "tensorboard=keras.callbacks.TensorBoard('/home/nancy/Downloads/logs',write_images=True)"
   ]
  },
  {
   "cell_type": "code",
   "execution_count": 114,
   "metadata": {
    "collapsed": false
   },
   "outputs": [
    {
     "name": "stdout",
     "output_type": "stream",
     "text": [
      "Train on 31707 samples, validate on 3523 samples\n",
      "Epoch 1/15\n",
      "96s - loss: 1.4773 - categorical_accuracy: 0.4363 - val_loss: 1.5552 - val_categorical_accuracy: 0.4156\n",
      "Epoch 2/15\n",
      "110s - loss: 1.4618 - categorical_accuracy: 0.4436 - val_loss: 1.5686 - val_categorical_accuracy: 0.4104\n",
      "Epoch 3/15\n",
      "111s - loss: 1.4358 - categorical_accuracy: 0.4530 - val_loss: 1.5700 - val_categorical_accuracy: 0.4056\n",
      "Epoch 4/15\n",
      "99s - loss: 1.4167 - categorical_accuracy: 0.4600 - val_loss: 1.5623 - val_categorical_accuracy: 0.4096\n",
      "Epoch 5/15\n",
      "119s - loss: 1.3980 - categorical_accuracy: 0.4678 - val_loss: 1.6107 - val_categorical_accuracy: 0.4059\n",
      "Epoch 6/15\n",
      "184s - loss: 1.3766 - categorical_accuracy: 0.4762 - val_loss: 1.6374 - val_categorical_accuracy: 0.3965\n",
      "Epoch 7/15\n",
      "290s - loss: 1.3499 - categorical_accuracy: 0.4872 - val_loss: 1.6059 - val_categorical_accuracy: 0.3974\n",
      "Epoch 8/15\n",
      "272s - loss: 1.3265 - categorical_accuracy: 0.4977 - val_loss: 1.6385 - val_categorical_accuracy: 0.3980\n",
      "Epoch 9/15\n",
      "270s - loss: 1.3003 - categorical_accuracy: 0.5117 - val_loss: 1.6276 - val_categorical_accuracy: 0.3926\n",
      "Epoch 10/15\n",
      "316s - loss: 1.2787 - categorical_accuracy: 0.5172 - val_loss: 1.6627 - val_categorical_accuracy: 0.3846\n",
      "Epoch 11/15\n",
      "278s - loss: 1.2485 - categorical_accuracy: 0.5291 - val_loss: 1.7067 - val_categorical_accuracy: 0.3858\n",
      "Epoch 12/15\n",
      "255s - loss: 1.2235 - categorical_accuracy: 0.5434 - val_loss: 1.6933 - val_categorical_accuracy: 0.3877\n",
      "Epoch 13/15\n",
      "257s - loss: 1.1997 - categorical_accuracy: 0.5536 - val_loss: 1.7220 - val_categorical_accuracy: 0.3787\n",
      "Epoch 14/15\n",
      "254s - loss: 1.1700 - categorical_accuracy: 0.5616 - val_loss: 1.7626 - val_categorical_accuracy: 0.3772\n",
      "Epoch 15/15\n",
      "255s - loss: 1.1496 - categorical_accuracy: 0.5711 - val_loss: 1.7672 - val_categorical_accuracy: 0.3744\n"
     ]
    },
    {
     "data": {
      "text/plain": [
       "<keras.callbacks.History at 0x7fa87bb17e10>"
      ]
     },
     "execution_count": 114,
     "metadata": {},
     "output_type": "execute_result"
    }
   ],
   "source": [
    "model.fit(X_train,y_train,batch_size=128,nb_epoch=15,validation_data=[X_test,y_test],verbose=2,shuffle=True,callbacks=[tensorboard,history1,history2])"
   ]
  },
  {
   "cell_type": "code",
   "execution_count": 95,
   "metadata": {
    "collapsed": false
   },
   "outputs": [],
   "source": [
    "def sentiment(h):\n",
    "    l=doc_to_id(h)[0]\n",
    "    m=pad_sequences([l],maxlen=40)\n",
    "    n=model.predict_classes(m,verbose=0)\n",
    "    j=output.columns[n]\n",
    "    print(j[0])"
   ]
  },
  {
   "cell_type": "code",
   "execution_count": 91,
   "metadata": {
    "collapsed": false
   },
   "outputs": [],
   "source": [
    "score=model.evaluate(X_test,y_test,verbose=2)"
   ]
  },
  {
   "cell_type": "code",
   "execution_count": 90,
   "metadata": {
    "collapsed": false
   },
   "outputs": [
    {
     "data": {
      "text/plain": [
       "0.74562"
      ]
     },
     "execution_count": 90,
     "metadata": {},
     "output_type": "execute_result"
    }
   ],
   "source": [
    "#Model Categorical Accuracy\n",
    "score[1]"
   ]
  },
  {
   "cell_type": "code",
   "execution_count": 113,
   "metadata": {
    "collapsed": false
   },
   "outputs": [
    {
     "name": "stdout",
     "output_type": "stream",
     "text": [
      "happiness\n"
     ]
    }
   ],
   "source": []
  },
  {
   "cell_type": "code",
   "execution_count": null,
   "metadata": {
    "collapsed": true
   },
   "outputs": [],
   "source": []
  }
 ],
 "metadata": {
  "kernelspec": {
   "display_name": "Python 2",
   "language": "python",
   "name": "python2"
  },
  "language_info": {
   "codemirror_mode": {
    "name": "ipython",
    "version": 2
   },
   "file_extension": ".py",
   "mimetype": "text/x-python",
   "name": "python",
   "nbconvert_exporter": "python",
   "pygments_lexer": "ipython2",
   "version": "2.7.6"
  }
 },
 "nbformat": 4,
 "nbformat_minor": 2
}
